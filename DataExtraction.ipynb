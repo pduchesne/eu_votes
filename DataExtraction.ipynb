{
 "cells": [
  {
   "cell_type": "markdown",
   "metadata": {},
   "source": [
    "Obtaining Data\n",
    "==============\n",
    "\n",
    "All data is obtained from http://parltrack.euwiki.org, where complete [raw data dumps](http://parltrack.euwiki.org/dumps) of all the votes are compiled daily from [European Parliament data](http://www.europarl.europa.eu/tools/disclaimer/default_en.htm).  \n",
    "More specifically, data used in this project are extracted from\n",
    " * http://parltrack.euwiki.org/dumps/ep_meps_current.json.xz : details about the MEPs (past and current)\n",
    " * http://parltrack.euwiki.org/dumps/ep_votes.json.xz : all the votes that happened over (at least) the last 5 years\n",
    "\n",
    "License\n",
    "-------\n",
    "As per the http://parltrack.euwiki.org website, the original data mentioned above is published under [ODbL v1.0](http://www.opendatacommons.org/licenses/odbl/) .  \n",
    "The derived data produced as part of this work is therefore also publisher under ODbL.\n",
    "\n",
    "Pre-processing\n",
    "-------------\n",
    "The raw [MEP data ](http://parltrack.euwiki.org/dumps/ep_meps_current.json.xz) will be processed to extract a summary for each MEP. The details on how this is done can be found in [this notebook](ep_meps_extract.ipynb), and results in records of the form:\n"
   ]
  },
  {
   "cell_type": "code",
   "execution_count": 11,
   "metadata": {
    "hide_input": true
   },
   "outputs": [
    {
     "name": "stdout",
     "output_type": "stream",
     "text": [
      "{\n",
      "  \"picture\": \"http://www.europarl.europa.eu/mepphoto/1.jpg\",\n",
      "  \"surname\": \"Georg\",\n",
      "  \"mep_id\": 1,\n",
      "  \"eu_homepage\": \"http://www.europarl.europa.eu/meps/en/1/_history.html\",\n",
      "  \"active\": false,\n",
      "  \"current_constituency\": \"Christlich Demokratische Union Deutschlands\",\n",
      "  \"name\": \"JARZEMBOWSKI\",\n",
      "  \"current_group\": \"PPE-DE\",\n",
      "  \"gender\": \"M\",\n",
      "  \"birthdate\": -722995200000.0,\n",
      "  \"country\": \"Germany\",\n",
      "  \"email\": null\n",
      "}\n"
     ]
    }
   ],
   "source": [
    "import json\n",
    "\n",
    "# read MEPs details\n",
    "with open('computed/meps_summary.json') as json_file:  \n",
    "    meps_details = json.load(json_file)\n",
    "\n",
    "# print first record\n",
    "print (json.dumps(next(iter(meps_details.values())), indent=2))"
   ]
  },
  {
   "cell_type": "markdown",
   "metadata": {},
   "source": [
    "\n",
    "Likewise, the [raw votes data](http://parltrack.euwiki.org/dumps/ep_votes.json.xz) is processed as described in [this notebook](ep_votes_extract.ipynb).  \n",
    "This results in two datasets :\n",
    " * the votes summary file, containing a summary of each vote, in the form :"
   ]
  },
  {
   "cell_type": "code",
   "execution_count": 34,
   "metadata": {
    "hide_input": true
   },
   "outputs": [
    {
     "name": "stdout",
     "output_type": "stream",
     "text": [
      "{\n",
      "  \"voteid\": \"60387\",\n",
      "  \"title\": \"Modification de l'ordre du jour\",\n",
      "  \"issue_type\": null,\n",
      "  \"url\": \"http://www.europarl.europa.eu/RegData/seance_pleniere/proces_verbal/2015/11-11/liste_presence/P8_PV(2015)11-11(RCV)_XC.xml\",\n",
      "  \"report\": null,\n",
      "  \"ts\": 1447255116000.0\n",
      "}\n"
     ]
    }
   ],
   "source": [
    "# read votes details\n",
    "with open('computed/votes_summary.json') as json_file:  \n",
    "    votes_details = json.load(json_file)\n",
    "\n",
    "# print first record\n",
    "print (json.dumps(next(iter(votes_details.values())), indent=2))"
   ]
  },
  {
   "cell_type": "markdown",
   "metadata": {},
   "source": [
    " * the MEPs votes file, containing a table with each vote of each MEPs :"
   ]
  },
  {
   "cell_type": "code",
   "execution_count": 33,
   "metadata": {
    "hide_input": true
   },
   "outputs": [
    {
     "data": {
      "text/html": [
       "<div>\n",
       "<style scoped>\n",
       "    .dataframe tbody tr th:only-of-type {\n",
       "        vertical-align: middle;\n",
       "    }\n",
       "\n",
       "    .dataframe tbody tr th {\n",
       "        vertical-align: top;\n",
       "    }\n",
       "\n",
       "    .dataframe thead th {\n",
       "        text-align: right;\n",
       "    }\n",
       "</style>\n",
       "<table border=\"1\" class=\"dataframe\">\n",
       "  <thead>\n",
       "    <tr style=\"text-align: right;\">\n",
       "      <th></th>\n",
       "      <th>mep_id</th>\n",
       "      <th>group</th>\n",
       "      <th>country</th>\n",
       "      <th>active</th>\n",
       "      <th>73468</th>\n",
       "      <th>98690</th>\n",
       "      <th>73396</th>\n",
       "      <th>103692</th>\n",
       "      <th>73394</th>\n",
       "      <th>101767</th>\n",
       "    </tr>\n",
       "  </thead>\n",
       "  <tbody>\n",
       "    <tr>\n",
       "      <th>55</th>\n",
       "      <td>124759</td>\n",
       "      <td>PPE</td>\n",
       "      <td>Lithuania</td>\n",
       "      <td>False</td>\n",
       "      <td></td>\n",
       "      <td></td>\n",
       "      <td></td>\n",
       "      <td></td>\n",
       "      <td></td>\n",
       "      <td></td>\n",
       "    </tr>\n",
       "    <tr>\n",
       "      <th>56</th>\n",
       "      <td>124758</td>\n",
       "      <td>ENF</td>\n",
       "      <td>France</td>\n",
       "      <td>True</td>\n",
       "      <td>1</td>\n",
       "      <td>1</td>\n",
       "      <td>-1</td>\n",
       "      <td>1</td>\n",
       "      <td>0</td>\n",
       "      <td>1</td>\n",
       "    </tr>\n",
       "    <tr>\n",
       "      <th>57</th>\n",
       "      <td>124757</td>\n",
       "      <td>ENF</td>\n",
       "      <td>France</td>\n",
       "      <td>True</td>\n",
       "      <td>1</td>\n",
       "      <td>1</td>\n",
       "      <td>-1</td>\n",
       "      <td>1</td>\n",
       "      <td>0</td>\n",
       "      <td>1</td>\n",
       "    </tr>\n",
       "    <tr>\n",
       "      <th>58</th>\n",
       "      <td>124756</td>\n",
       "      <td>Verts/ALE</td>\n",
       "      <td>Croatia</td>\n",
       "      <td>True</td>\n",
       "      <td>-1</td>\n",
       "      <td>-1</td>\n",
       "      <td>1</td>\n",
       "      <td>1</td>\n",
       "      <td>1</td>\n",
       "      <td>1</td>\n",
       "    </tr>\n",
       "    <tr>\n",
       "      <th>59</th>\n",
       "      <td>124755</td>\n",
       "      <td>ENF</td>\n",
       "      <td>France</td>\n",
       "      <td>True</td>\n",
       "      <td>1</td>\n",
       "      <td>1</td>\n",
       "      <td>-1</td>\n",
       "      <td>1</td>\n",
       "      <td>0</td>\n",
       "      <td>1</td>\n",
       "    </tr>\n",
       "  </tbody>\n",
       "</table>\n",
       "</div>"
      ],
      "text/plain": [
       "    mep_id      group    country  active 73468 98690 73396 103692 73394 101767\n",
       "55  124759        PPE  Lithuania   False                                      \n",
       "56  124758        ENF     France    True     1     1    -1      1     0      1\n",
       "57  124757        ENF     France    True     1     1    -1      1     0      1\n",
       "58  124756  Verts/ALE    Croatia    True    -1    -1     1      1     1      1\n",
       "59  124755        ENF     France    True     1     1    -1      1     0      1"
      ]
     },
     "execution_count": 33,
     "metadata": {},
     "output_type": "execute_result"
    }
   ],
   "source": [
    "import pandas\n",
    "\n",
    "# read all votes CSV (about 3000 MEPs x 17000 votes)\n",
    "votes_data = pandas.read_csv('computed/meps_votes.csv')\n",
    "\n",
    "# Display a sample and replace missing values by empty spaces for display purposes\n",
    "votes_data.iloc[55:60, 0:10].replace(float('nan'), '')"
   ]
  },
  {
   "cell_type": "markdown",
   "metadata": {},
   "source": []
  }
 ],
 "metadata": {
  "kernelspec": {
   "display_name": "Python 3",
   "language": "python",
   "name": "python3"
  },
  "language_info": {
   "codemirror_mode": {
    "name": "ipython",
    "version": 3
   },
   "file_extension": ".py",
   "mimetype": "text/x-python",
   "name": "python",
   "nbconvert_exporter": "python",
   "pygments_lexer": "ipython3",
   "version": "3.7.0"
  }
 },
 "nbformat": 4,
 "nbformat_minor": 4
}
