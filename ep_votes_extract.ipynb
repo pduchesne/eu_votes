{
 "cells": [
  {
   "cell_type": "markdown",
   "metadata": {},
   "source": [
    "## Prerequisite\n",
    "Download http://parltrack.euwiki.org/dumps/ep_meps_current.json.xz and http://parltrack.euwiki.org/dumps/ep_votes.json.xz, unpack in `./tmp`.\n",
    "\n",
    "##Extracting Votes information\n",
    "\n",
    "Process the complete `ep_votes.20190501.json` file to extract the list of votes with the vote of each MEP.\n",
    "This results in two files : \n",
    " - `votes_summary.json` contains a map of `{ [vote_id: string]: {voteid, title, ts, issue_type, url, report} }`\n",
    " - `meps_votes.csv` contains a table with votes as columns and MEPs as rows (plus some MEPs details)"
   ]
  },
  {
   "cell_type": "code",
   "execution_count": 5,
   "metadata": {},
   "outputs": [
    {
     "ename": "TypeError",
     "evalue": "can only concatenate list (not \"dict_keys\") to list",
     "output_type": "error",
     "traceback": [
      "\u001b[0;31m---------------------------------------------------------------------------\u001b[0m",
      "\u001b[0;31mTypeError\u001b[0m                                 Traceback (most recent call last)",
      "\u001b[0;32m<ipython-input-5-b3038bb1e7ab>\u001b[0m in \u001b[0;36m<module>\u001b[0;34m()\u001b[0m\n\u001b[1;32m     54\u001b[0m \u001b[0mvote_ids\u001b[0m \u001b[0;34m=\u001b[0m \u001b[0mvotes_list\u001b[0m\u001b[0;34m.\u001b[0m\u001b[0mkeys\u001b[0m\u001b[0;34m(\u001b[0m\u001b[0;34m)\u001b[0m\u001b[0;34m\u001b[0m\u001b[0m\n\u001b[1;32m     55\u001b[0m \u001b[0;31m# define CSV headers\u001b[0m\u001b[0;34m\u001b[0m\u001b[0;34m\u001b[0m\u001b[0m\n\u001b[0;32m---> 56\u001b[0;31m \u001b[0mall_mep_votes_table_headers\u001b[0m \u001b[0;34m=\u001b[0m \u001b[0;34m[\u001b[0m\u001b[0;34m'mep_id'\u001b[0m\u001b[0;34m,\u001b[0m \u001b[0;34m'group'\u001b[0m\u001b[0;34m,\u001b[0m \u001b[0;34m'country'\u001b[0m\u001b[0;34m,\u001b[0m \u001b[0;34m'active'\u001b[0m\u001b[0;34m]\u001b[0m \u001b[0;34m+\u001b[0m \u001b[0mvote_ids\u001b[0m\u001b[0;34m\u001b[0m\u001b[0m\n\u001b[0m\u001b[1;32m     57\u001b[0m \u001b[0;34m\u001b[0m\u001b[0m\n\u001b[1;32m     58\u001b[0m \u001b[0mmep_ids\u001b[0m \u001b[0;34m=\u001b[0m \u001b[0mmeps\u001b[0m\u001b[0;34m.\u001b[0m\u001b[0mkeys\u001b[0m\u001b[0;34m(\u001b[0m\u001b[0;34m)\u001b[0m\u001b[0;34m\u001b[0m\u001b[0m\n",
      "\u001b[0;31mTypeError\u001b[0m: can only concatenate list (not \"dict_keys\") to list"
     ]
    }
   ],
   "source": [
    "import ijson\n",
    "import itertools\n",
    "import json\n",
    "import dateutil.parser\n",
    "import datetime\n",
    "\n",
    "EPOCH = datetime.datetime.utcfromtimestamp(0)\n",
    "def unix_millis(dt):\n",
    "    return (dt - EPOCH).total_seconds() * 1000.0\n",
    "\n",
    "with open('meps_summary.json') as json_file:  \n",
    "    meps = json.load(json_file)\n",
    "\n",
    "with open('tmp/ep_votes.20190501.json') as votes_file:\n",
    "    votes_iter = ijson.items(votes_file, 'item')\n",
    "\n",
    "    # map of vote summary, i.e. { [vote_id:string] : {voteid, title, ts} }\n",
    "    votes_list = {}\n",
    "    \n",
    "    # map of MEP votes, i.e. { [mep_id:string] : { [vote_id:string] : 0|1|-1 } }\n",
    "    all_mep_votes = {}\n",
    "    \n",
    "    def gather_mep_votes(response_votes, response_value, ):\n",
    "        # concatenate votes across groups\n",
    "        all_votes = itertools.chain.from_iterable([group['votes'] for group in response_votes['groups']])\n",
    "        for mep_vote in all_votes:\n",
    "            # build all_mep_votes map as we go along - not all MEPs are mentioned in every vote\n",
    "            mep_id = str(mep_vote['ep_id'])\n",
    "            if mep_id not in all_mep_votes: \n",
    "                all_mep_votes[mep_id] = {}\n",
    "            all_mep_votes[mep_id][vote['voteid']] = response_value      \n",
    "\n",
    "    for idx, vote in enumerate(votes_iter):\n",
    "        print ('\\r > vote %s' % idx, end = '')\n",
    "\n",
    "        votes_list[vote['voteid']] = {\n",
    "            'voteid' : vote['voteid'],\n",
    "            'title' : vote['title'],\n",
    "            'issue_type' : vote.get('issue_type', None) ,\n",
    "            'url' : vote['url'],\n",
    "            'report' : vote.get('report', None),\n",
    "            'ts' : unix_millis(dateutil.parser.parse(vote['ts']))\n",
    "        }\n",
    "\n",
    "        if 'Abstain' in vote: gather_mep_votes(vote['Abstain'], 0)\n",
    "        if 'For' in vote: gather_mep_votes(vote['For'], 1)\n",
    "        if 'Against' in vote: gather_mep_votes(vote['Against'], -1)\n",
    "    \n",
    "# Write votes_summary.json file \n",
    "with open('votes_summary2.json', 'w') as outfile:  \n",
    "    json.dump(votes_list, outfile)\n",
    "    \n",
    "    \n",
    "vote_ids = votes_list.keys()\n",
    "# define CSV headers\n",
    "all_mep_votes_table_headers = ['mep_id', 'group', 'country', 'active'] + vote_ids\n",
    "\n",
    "mep_ids = meps.keys()\n",
    "\n",
    "mep_votes_array = [all_mep_votes_table_headers] \n",
    "for mep_id in mep_ids:\n",
    "    mep_row = [mep_id, meps[mep_id]['current_group'], meps[mep_id]['country'], meps[mep_id]['active']]\n",
    "    mep_votes = [ (all_mep_votes[mep_id][vote_id] if (mep_id in all_mep_votes and vote_id in all_mep_votes[mep_id]) else None) for vote_id in vote_ids ] \n",
    "    mep_votes_array.append(mep_row + mep_votes)\n",
    "\n",
    "\n",
    "# Write table of MEPs votes (votes as columns, one MEP per line) to meps_votes.csv file \n",
    "import csv\n",
    "with open('meps_votes2.csv', 'w') as outfile:  \n",
    "    wtr = csv.writer(outfile, delimiter=',')\n",
    "    wtr.writerows (mep_votes_array)"
   ]
  },
  {
   "cell_type": "code",
   "execution_count": 32,
   "metadata": {},
   "outputs": [],
   "source": [
    "# clean up memory\n",
    "del meps\n",
    "del votes_list\n",
    "del all_mep_votes\n",
    "del mep_votes_array"
   ]
  },
  {
   "cell_type": "code",
   "execution_count": null,
   "metadata": {},
   "outputs": [],
   "source": []
  }
 ],
 "metadata": {
  "kernelspec": {
   "display_name": "Python 3",
   "language": "python",
   "name": "python3"
  },
  "language_info": {
   "codemirror_mode": {
    "name": "ipython",
    "version": 3
   },
   "file_extension": ".py",
   "mimetype": "text/x-python",
   "name": "python",
   "nbconvert_exporter": "python",
   "pygments_lexer": "ipython3",
   "version": "3.7.0"
  }
 },
 "nbformat": 4,
 "nbformat_minor": 4
}
